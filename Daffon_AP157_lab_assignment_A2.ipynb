{
  "cells": [
    {
      "cell_type": "markdown",
      "metadata": {
        "id": "ST5d6dw3dLZh"
      },
      "source": [
        "# **AP157 Machine Learning Lab Assignment**\n",
        "## Module A.2: Classification -- Morphological Classification of Galaxies using Decision Trees\n",
        "\n",
        "_Instructions_: Answer each part of the assignment as completely as you can. Discuss **all** your code and results as clearly and concisely as possible.\n",
        "\n",
        "_Scoring Criteria_: 50% - *correctness of code*; 50% - *discussion of the code and results*. Maximum score is **100 points** (Parts 1, 2, and 3 are worth 20, 40, and 40 points, respectively).\n",
        "\n",
        "_Credits_: This assignment is based on the Week 6 module of the Coursera course \"Data-driven Astronomy\", \"Exploring machine learning classification\" ([link](https://www.coursera.org/learn/data-driven-astronomy/home/welcome))"
      ]
    },
    {
      "cell_type": "markdown",
      "metadata": {
        "id": "iZZaEzKHdVYG"
      },
      "source": [
        "### Student Information\n",
        "\n",
        "_Full Name (Last Name, First Name)_: \\\n",
        "_Student No._:\\\n",
        "_Section_:"
      ]
    },
    {
      "cell_type": "markdown",
      "metadata": {
        "id": "Xv1STpPodaDL"
      },
      "source": [
        "### Submission Information\n",
        "\n",
        "_Date and Time Submitted (most recent upload)_:\n",
        "\n",
        "**HONOR PLEDGE** I affirm that I have upheld the highest principles of honesty and integrity in my academic work and that this lab assignment is my own work.\n",
        "\n",
        "**Sign here with your full name:**"
      ]
    },
    {
      "cell_type": "markdown",
      "metadata": {
        "id": "8zw1kC_rdoHT"
      },
      "source": [
        "### Grading Information (c/o Instructor)\n",
        "\n",
        "TOTAL SCORE: **[]**/100\n",
        "\n",
        "Score breakdown:\n",
        "* Part 1 - []/20\n",
        "* Part 2 - []/40\n",
        "* Part 3 - []/40\n",
        "\n",
        "_Date and Time Scored (MM/DD/YYYY HH:MM AM/PM):_"
      ]
    },
    {
      "cell_type": "markdown",
      "metadata": {
        "id": "UNaYs-MfeDRl"
      },
      "source": [
        "For this assignment, you will work with galaxy data from the\n",
        "Sloan Digital Sky Survey (SDSS). First, you need to make a copy of the binary file ```galaxy_catalogue.npy``` and save it to a folder in your **own Google Drive**. This file is available from the AP157 Machine Learning Google Drive (under the Datasets folder).\n",
        "\n",
        "The code cells below will (1) mount your Google Drive and (2) load ```galaxy_catalogue.npy``` from your Google Drive folder."
      ]
    },
    {
      "cell_type": "markdown",
      "metadata": {
        "id": "ee1mHlUWfcsc"
      },
      "source": [
        "Mount the Google Drive where you saved the .npy file.\n",
        "\n",
        "When you run this cell, you will be asked to sign in to your Google account and you will get an authorization code. Paste the code on the provided cell to mount the Google Drive."
      ]
    },
    {
      "cell_type": "code",
      "execution_count": null,
      "metadata": {
        "id": "yH0IOwb1YBHc"
      },
      "outputs": [],
      "source": [
        "import os \n",
        "import sys\n",
        "\n",
        "cur_path = os.path.abspath(os.path.join(''))\n",
        "if cur_path not in sys.path:\n",
        "    sys.path.append(cur_path)"
      ]
    },
    {
      "cell_type": "markdown",
      "metadata": {
        "id": "k0C5c-8ofqDu"
      },
      "source": [
        "Run this command to list the directories in your Google Drive and check that the mount was successful."
      ]
    },
    {
      "cell_type": "markdown",
      "metadata": {
        "id": "XPLuh_jWfju8"
      },
      "source": [
        "Define the directory path to the location of the file, i.e. if it is in a\n",
        "folder named \"AP157\" under My Drive, then the file path will be \"/content/drive/My Drive/AP157\". Change the string variable in the code cell below, as needed:"
      ]
    },
    {
      "cell_type": "markdown",
      "metadata": {
        "id": "VW7RFRGaik-6"
      },
      "source": [
        "Now, we can load the file using $\\tt numpy$'s $\\tt load$ function below.\n",
        "\n",
        "\n",
        "\n"
      ]
    },
    {
      "cell_type": "code",
      "execution_count": 1,
      "metadata": {
        "id": "y61tYmPIimUv"
      },
      "outputs": [],
      "source": [
        "import numpy as np\n",
        "\n",
        "data = np.load('galaxy_catalogue.npy')"
      ]
    },
    {
      "cell_type": "markdown",
      "metadata": {
        "id": "HpXP16UfWHQK"
      },
      "source": [
        "Print out the first couple of rows. Note that the columns are: $u-g$, $g-r$, $r-i$, $i-z$, eccentricity, $m_u$, $m_g$, $m_r$, $m_i$, $m_z$, $R_{50,u}$, $R_{50,r}$, $R_{50,z}$, $R_{90,u}$, $R_{90,r}$, $R_{90,z}$, and class."
      ]
    },
    {
      "cell_type": "code",
      "execution_count": 2,
      "metadata": {
        "id": "HbQiDjyIWsjr"
      },
      "outputs": [
        {
          "data": {
            "text/plain": [
              "array([(1.85765, 0.67158, 0.4231 , 0.3061 , 0.5854284, 2.251946, 2.339849, 2.380652, 2.359738, 2.395528, 3.095123, 3.818919, 3.82623 , 5.174814, 8.263009, 11.47734 , 'merger'),\n",
              "       (1.74259, 0.86085, 0.44927, 0.28851, 0.7498125, 2.031566, 2.084156, 2.092272, 2.124075, 2.133154, 1.430436, 1.422533, 1.385727, 3.732712, 3.416921,  3.330347, 'merger')],\n",
              "      dtype=[('u-g', '<f8'), ('g-r', '<f8'), ('r-i', '<f8'), ('i-z', '<f8'), ('ecc', '<f8'), ('m4_u', '<f8'), ('m4_g', '<f8'), ('m4_r', '<f8'), ('m4_i', '<f8'), ('m4_z', '<f8'), ('petroR50_u', '<f8'), ('petroR50_r', '<f8'), ('petroR50_z', '<f8'), ('petroR90_u', '<f8'), ('petroR90_r', '<f8'), ('petroR90_z', '<f8'), ('class', '<U20')])"
            ]
          },
          "execution_count": 2,
          "metadata": {},
          "output_type": "execute_result"
        }
      ],
      "source": [
        "data[:2]"
      ]
    },
    {
      "cell_type": "markdown",
      "metadata": {
        "id": "_eq2V7xzFtq7"
      },
      "source": [
        "#### PART 1 - Get features and targets *(20 pts.)*\n",
        "\n",
        "Write a function ```get_features_targets``` that splits the dataset into input features and their corresponding targets. In our case, the inputs are the 4 galaxy colors ($u-g$, $g-r$, $r-i$, and $i-z$), eccentricity, $ugriz$ magnitudes, and concentrations $R_{50}/R_{90}$ in the $u$, $r$, and $z$ bands. The targets are the classes.\n",
        "\n",
        "Here's an example of how your function should work:\n",
        "```\n",
        ">>> features, targets = get_features_targets(data)\n",
        ">>> print(\"Features shape:\", features.shape\n",
        ">>> print(\"Targets shape:\", targets.shape)\n",
        "Features shape: (780, 13)\n",
        "Targets shape: (780,)\n",
        "```"
      ]
    },
    {
      "cell_type": "code",
      "execution_count": 6,
      "metadata": {},
      "outputs": [],
      "source": [
        "import pandas as pd\n",
        "import numpy as np\n",
        "import matplotlib.pyplot as plt"
      ]
    },
    {
      "cell_type": "code",
      "execution_count": 9,
      "metadata": {
        "id": "mfMtufdukBnu"
      },
      "outputs": [
        {
          "data": {
            "text/html": [
              "<div>\n",
              "<style scoped>\n",
              "    .dataframe tbody tr th:only-of-type {\n",
              "        vertical-align: middle;\n",
              "    }\n",
              "\n",
              "    .dataframe tbody tr th {\n",
              "        vertical-align: top;\n",
              "    }\n",
              "\n",
              "    .dataframe thead th {\n",
              "        text-align: right;\n",
              "    }\n",
              "</style>\n",
              "<table border=\"1\" class=\"dataframe\">\n",
              "  <thead>\n",
              "    <tr style=\"text-align: right;\">\n",
              "      <th></th>\n",
              "      <th>u-g</th>\n",
              "      <th>g-r</th>\n",
              "      <th>r-i</th>\n",
              "      <th>i-z</th>\n",
              "      <th>ecc</th>\n",
              "      <th>m4_u</th>\n",
              "      <th>m4_g</th>\n",
              "      <th>m4_r</th>\n",
              "      <th>m4_i</th>\n",
              "      <th>m4_z</th>\n",
              "      <th>petroR50_u</th>\n",
              "      <th>petroR50_r</th>\n",
              "      <th>petroR50_z</th>\n",
              "      <th>petroR90_u</th>\n",
              "      <th>petroR90_r</th>\n",
              "      <th>petroR90_z</th>\n",
              "      <th>class</th>\n",
              "    </tr>\n",
              "  </thead>\n",
              "  <tbody>\n",
              "    <tr>\n",
              "      <th>0</th>\n",
              "      <td>1.85765</td>\n",
              "      <td>0.67158</td>\n",
              "      <td>0.42310</td>\n",
              "      <td>0.30610</td>\n",
              "      <td>0.585428</td>\n",
              "      <td>2.251946</td>\n",
              "      <td>2.339849</td>\n",
              "      <td>2.380652</td>\n",
              "      <td>2.359738</td>\n",
              "      <td>2.395528</td>\n",
              "      <td>3.095123</td>\n",
              "      <td>3.818919</td>\n",
              "      <td>3.826230</td>\n",
              "      <td>5.174814</td>\n",
              "      <td>8.263009</td>\n",
              "      <td>11.477340</td>\n",
              "      <td>merger</td>\n",
              "    </tr>\n",
              "    <tr>\n",
              "      <th>1</th>\n",
              "      <td>1.74259</td>\n",
              "      <td>0.86085</td>\n",
              "      <td>0.44927</td>\n",
              "      <td>0.28851</td>\n",
              "      <td>0.749812</td>\n",
              "      <td>2.031566</td>\n",
              "      <td>2.084156</td>\n",
              "      <td>2.092272</td>\n",
              "      <td>2.124075</td>\n",
              "      <td>2.133154</td>\n",
              "      <td>1.430436</td>\n",
              "      <td>1.422533</td>\n",
              "      <td>1.385727</td>\n",
              "      <td>3.732712</td>\n",
              "      <td>3.416921</td>\n",
              "      <td>3.330347</td>\n",
              "      <td>merger</td>\n",
              "    </tr>\n",
              "    <tr>\n",
              "      <th>2</th>\n",
              "      <td>2.10697</td>\n",
              "      <td>0.96710</td>\n",
              "      <td>0.56810</td>\n",
              "      <td>0.33747</td>\n",
              "      <td>0.630089</td>\n",
              "      <td>1.992887</td>\n",
              "      <td>2.450746</td>\n",
              "      <td>2.473116</td>\n",
              "      <td>2.465324</td>\n",
              "      <td>2.438683</td>\n",
              "      <td>3.099957</td>\n",
              "      <td>3.623704</td>\n",
              "      <td>3.463300</td>\n",
              "      <td>9.110857</td>\n",
              "      <td>8.354343</td>\n",
              "      <td>11.265390</td>\n",
              "      <td>merger</td>\n",
              "    </tr>\n",
              "    <tr>\n",
              "      <th>3</th>\n",
              "      <td>1.22840</td>\n",
              "      <td>0.60446</td>\n",
              "      <td>0.39049</td>\n",
              "      <td>0.28913</td>\n",
              "      <td>0.668999</td>\n",
              "      <td>2.056115</td>\n",
              "      <td>2.182252</td>\n",
              "      <td>2.309510</td>\n",
              "      <td>2.391414</td>\n",
              "      <td>2.472397</td>\n",
              "      <td>3.627267</td>\n",
              "      <td>4.063471</td>\n",
              "      <td>3.717708</td>\n",
              "      <td>9.580675</td>\n",
              "      <td>12.202420</td>\n",
              "      <td>11.826220</td>\n",
              "      <td>merger</td>\n",
              "    </tr>\n",
              "    <tr>\n",
              "      <th>4</th>\n",
              "      <td>1.80792</td>\n",
              "      <td>0.78124</td>\n",
              "      <td>0.45528</td>\n",
              "      <td>0.35067</td>\n",
              "      <td>0.500170</td>\n",
              "      <td>2.259167</td>\n",
              "      <td>2.194723</td>\n",
              "      <td>2.264567</td>\n",
              "      <td>2.334713</td>\n",
              "      <td>2.352568</td>\n",
              "      <td>3.256751</td>\n",
              "      <td>3.153533</td>\n",
              "      <td>2.254511</td>\n",
              "      <td>9.206746</td>\n",
              "      <td>9.790146</td>\n",
              "      <td>6.636931</td>\n",
              "      <td>merger</td>\n",
              "    </tr>\n",
              "    <tr>\n",
              "      <th>...</th>\n",
              "      <td>...</td>\n",
              "      <td>...</td>\n",
              "      <td>...</td>\n",
              "      <td>...</td>\n",
              "      <td>...</td>\n",
              "      <td>...</td>\n",
              "      <td>...</td>\n",
              "      <td>...</td>\n",
              "      <td>...</td>\n",
              "      <td>...</td>\n",
              "      <td>...</td>\n",
              "      <td>...</td>\n",
              "      <td>...</td>\n",
              "      <td>...</td>\n",
              "      <td>...</td>\n",
              "      <td>...</td>\n",
              "      <td>...</td>\n",
              "    </tr>\n",
              "    <tr>\n",
              "      <th>775</th>\n",
              "      <td>1.34594</td>\n",
              "      <td>0.64285</td>\n",
              "      <td>0.37813</td>\n",
              "      <td>0.23107</td>\n",
              "      <td>0.779956</td>\n",
              "      <td>2.421518</td>\n",
              "      <td>2.248886</td>\n",
              "      <td>2.589488</td>\n",
              "      <td>2.615007</td>\n",
              "      <td>2.601444</td>\n",
              "      <td>13.877220</td>\n",
              "      <td>11.936910</td>\n",
              "      <td>11.337210</td>\n",
              "      <td>32.374710</td>\n",
              "      <td>25.266770</td>\n",
              "      <td>25.934250</td>\n",
              "      <td>spiral</td>\n",
              "    </tr>\n",
              "    <tr>\n",
              "      <th>776</th>\n",
              "      <td>1.19482</td>\n",
              "      <td>0.49611</td>\n",
              "      <td>0.31017</td>\n",
              "      <td>0.16244</td>\n",
              "      <td>0.722125</td>\n",
              "      <td>2.211442</td>\n",
              "      <td>2.294102</td>\n",
              "      <td>2.327795</td>\n",
              "      <td>2.371559</td>\n",
              "      <td>2.358487</td>\n",
              "      <td>3.032364</td>\n",
              "      <td>3.348147</td>\n",
              "      <td>3.062732</td>\n",
              "      <td>5.833694</td>\n",
              "      <td>8.061935</td>\n",
              "      <td>7.840197</td>\n",
              "      <td>spiral</td>\n",
              "    </tr>\n",
              "    <tr>\n",
              "      <th>777</th>\n",
              "      <td>1.21489</td>\n",
              "      <td>0.57253</td>\n",
              "      <td>0.35423</td>\n",
              "      <td>0.21312</td>\n",
              "      <td>0.793392</td>\n",
              "      <td>2.264709</td>\n",
              "      <td>2.319192</td>\n",
              "      <td>2.388157</td>\n",
              "      <td>2.392148</td>\n",
              "      <td>2.384103</td>\n",
              "      <td>4.652165</td>\n",
              "      <td>4.031008</td>\n",
              "      <td>3.122812</td>\n",
              "      <td>9.610085</td>\n",
              "      <td>9.280005</td>\n",
              "      <td>6.708179</td>\n",
              "      <td>spiral</td>\n",
              "    </tr>\n",
              "    <tr>\n",
              "      <th>778</th>\n",
              "      <td>1.41797</td>\n",
              "      <td>0.86460</td>\n",
              "      <td>0.40020</td>\n",
              "      <td>0.35307</td>\n",
              "      <td>0.835901</td>\n",
              "      <td>2.011354</td>\n",
              "      <td>2.023669</td>\n",
              "      <td>2.326873</td>\n",
              "      <td>2.676343</td>\n",
              "      <td>2.560389</td>\n",
              "      <td>5.442954</td>\n",
              "      <td>4.227347</td>\n",
              "      <td>3.774427</td>\n",
              "      <td>16.256520</td>\n",
              "      <td>7.738220</td>\n",
              "      <td>7.865478</td>\n",
              "      <td>spiral</td>\n",
              "    </tr>\n",
              "    <tr>\n",
              "      <th>779</th>\n",
              "      <td>1.49346</td>\n",
              "      <td>0.86623</td>\n",
              "      <td>0.43432</td>\n",
              "      <td>0.31509</td>\n",
              "      <td>0.490623</td>\n",
              "      <td>2.387251</td>\n",
              "      <td>2.529668</td>\n",
              "      <td>2.525753</td>\n",
              "      <td>2.490839</td>\n",
              "      <td>2.487824</td>\n",
              "      <td>5.082120</td>\n",
              "      <td>3.473336</td>\n",
              "      <td>3.107052</td>\n",
              "      <td>9.206557</td>\n",
              "      <td>8.380891</td>\n",
              "      <td>7.720072</td>\n",
              "      <td>spiral</td>\n",
              "    </tr>\n",
              "  </tbody>\n",
              "</table>\n",
              "<p>780 rows × 17 columns</p>\n",
              "</div>"
            ],
            "text/plain": [
              "         u-g      g-r      r-i      i-z       ecc      m4_u      m4_g  \\\n",
              "0    1.85765  0.67158  0.42310  0.30610  0.585428  2.251946  2.339849   \n",
              "1    1.74259  0.86085  0.44927  0.28851  0.749812  2.031566  2.084156   \n",
              "2    2.10697  0.96710  0.56810  0.33747  0.630089  1.992887  2.450746   \n",
              "3    1.22840  0.60446  0.39049  0.28913  0.668999  2.056115  2.182252   \n",
              "4    1.80792  0.78124  0.45528  0.35067  0.500170  2.259167  2.194723   \n",
              "..       ...      ...      ...      ...       ...       ...       ...   \n",
              "775  1.34594  0.64285  0.37813  0.23107  0.779956  2.421518  2.248886   \n",
              "776  1.19482  0.49611  0.31017  0.16244  0.722125  2.211442  2.294102   \n",
              "777  1.21489  0.57253  0.35423  0.21312  0.793392  2.264709  2.319192   \n",
              "778  1.41797  0.86460  0.40020  0.35307  0.835901  2.011354  2.023669   \n",
              "779  1.49346  0.86623  0.43432  0.31509  0.490623  2.387251  2.529668   \n",
              "\n",
              "         m4_r      m4_i      m4_z  petroR50_u  petroR50_r  petroR50_z  \\\n",
              "0    2.380652  2.359738  2.395528    3.095123    3.818919    3.826230   \n",
              "1    2.092272  2.124075  2.133154    1.430436    1.422533    1.385727   \n",
              "2    2.473116  2.465324  2.438683    3.099957    3.623704    3.463300   \n",
              "3    2.309510  2.391414  2.472397    3.627267    4.063471    3.717708   \n",
              "4    2.264567  2.334713  2.352568    3.256751    3.153533    2.254511   \n",
              "..        ...       ...       ...         ...         ...         ...   \n",
              "775  2.589488  2.615007  2.601444   13.877220   11.936910   11.337210   \n",
              "776  2.327795  2.371559  2.358487    3.032364    3.348147    3.062732   \n",
              "777  2.388157  2.392148  2.384103    4.652165    4.031008    3.122812   \n",
              "778  2.326873  2.676343  2.560389    5.442954    4.227347    3.774427   \n",
              "779  2.525753  2.490839  2.487824    5.082120    3.473336    3.107052   \n",
              "\n",
              "     petroR90_u  petroR90_r  petroR90_z   class  \n",
              "0      5.174814    8.263009   11.477340  merger  \n",
              "1      3.732712    3.416921    3.330347  merger  \n",
              "2      9.110857    8.354343   11.265390  merger  \n",
              "3      9.580675   12.202420   11.826220  merger  \n",
              "4      9.206746    9.790146    6.636931  merger  \n",
              "..          ...         ...         ...     ...  \n",
              "775   32.374710   25.266770   25.934250  spiral  \n",
              "776    5.833694    8.061935    7.840197  spiral  \n",
              "777    9.610085    9.280005    6.708179  spiral  \n",
              "778   16.256520    7.738220    7.865478  spiral  \n",
              "779    9.206557    8.380891    7.720072  spiral  \n",
              "\n",
              "[780 rows x 17 columns]"
            ]
          },
          "execution_count": 9,
          "metadata": {},
          "output_type": "execute_result"
        }
      ],
      "source": [
        "frame = pd.DataFrame(data)\n",
        "frame\n",
        "    "
      ]
    },
    {
      "cell_type": "markdown",
      "metadata": {
        "id": "vnePPYpJNWoY"
      },
      "source": [
        "#### PART 2 - Train and run a decision tree model *(40 pts.)*\n",
        "\n",
        "Write a function ```predict_class``` that will train and validate a model that predicts a galaxy's class from its photometric properties. In particular, it should do the following:\n",
        "1. Split the dataset into a training and test dataset using an 80:20 split.\n",
        "2. Train the input model using the training dataset features and targets.\n",
        "3. Return two arrays-- the predicted and actual class of the test galaxies.\n",
        "\n",
        "Here's an example of how your function should work:\n",
        "```\n",
        "import numpy as np\n",
        "from sklearn.tree import DecisionTreeClassifier\n",
        "\n",
        "data = np.load(file_path + 'galaxy_catalogue.npy')\n",
        "predicted_class, actual_class = predict_class(data)\n",
        "\n",
        "for i in np.arange(3):\n",
        "   print(\"%d, %s, %s\" & (i, predicted_class[i], actual_class[i]))\n",
        "```"
      ]
    },
    {
      "cell_type": "code",
      "execution_count": null,
      "metadata": {
        "id": "ydeUh_Tzvf0n"
      },
      "outputs": [],
      "source": []
    },
    {
      "cell_type": "markdown",
      "metadata": {
        "id": "hlSp5k92OjuM"
      },
      "source": [
        "#### PART 3 - Confusion matrix and accuracy *(40 pts.)*\n",
        "\n",
        "1. Get the confusion matrix for your test dataset-- this is a 3 x 3 matrix with the counts for each combination of actual and predicted class. *(25 pts.)*\n",
        "\n",
        "2. Get the test accuracy of your decision tree classifer, defined as the number of correct predictions divided by the total number of predictions. *(15 pts.)*"
      ]
    },
    {
      "cell_type": "code",
      "execution_count": null,
      "metadata": {
        "id": "OZXvnOSLdH_k"
      },
      "outputs": [],
      "source": []
    }
  ],
  "metadata": {
    "colab": {
      "provenance": []
    },
    "kernelspec": {
      "display_name": "Python 3",
      "name": "python3"
    },
    "language_info": {
      "codemirror_mode": {
        "name": "ipython",
        "version": 3
      },
      "file_extension": ".py",
      "mimetype": "text/x-python",
      "name": "python",
      "nbconvert_exporter": "python",
      "pygments_lexer": "ipython3",
      "version": "3.11.4"
    }
  },
  "nbformat": 4,
  "nbformat_minor": 0
}
